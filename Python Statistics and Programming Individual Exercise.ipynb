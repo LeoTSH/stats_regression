{
 "cells": [
  {
   "cell_type": "markdown",
   "metadata": {},
   "source": [
    "# Individual Exercise: \n",
    "\n",
    "This exercise is designed to be challenging but fun. We intentionally chose a task that you may not have encountered before because we want to see how you tackle fresh problems. \n",
    "\n",
    "- DO provide well-written explanations \n",
    "- DO comment your code \n",
    "- DO provide docstrings to your functions "
   ]
  },
  {
   "cell_type": "markdown",
   "metadata": {},
   "source": [
    "# Optimising how we implement linear regression \n",
    "## Scenario: \n",
    "\n",
    "Linear Regression is very useful for real-world machine learning. For example, we can use this algorithm to predict how far the disease of a diabetes patient has progressed one year after baseline. For this exercise, we are using a dataset collected from 442 people measuring 10 physiological characteristics such as age, sex and bmi. The dataset is included in Python's scikit-learn and a full description is here : http://scikit-learn.org/stable/modules/generated/sklearn.datasets.load_diabetes.html\n",
    "\n",
    "You can access the dataset from the aiap-workshop folder as `diabetes.tab.txt`"
   ]
  },
  {
   "cell_type": "markdown",
   "metadata": {},
   "source": [
    "# Question 1\n",
    "\n",
    "**1.1** Access the scikit-learn source code for linear regression https://github.com/scikit-learn/scikit-learn/blob/14031f6/sklearn/linear_model/base.py#L417  \n",
    "**1.2** From the source code, what Numerical Linear Algebra method is scikit-learn using to implement Linear Regression?  \n",
    "**1.3** In your own words, describe how this method works"
   ]
  },
  {
   "cell_type": "code",
   "execution_count": null,
   "metadata": {},
   "outputs": [],
   "source": [
    "## your answer here \n",
    "1.2: Ordinary least squares\n",
    "\n",
    "1.3: Goal of Ordinary least squares or OLS is to reduce to sum of squared errors between the predicted regression line and\n",
    "    the actual observed results.\n",
    "    Summing the errors between the actual and predicted values and using the results to determine the line/path with the lowest\n",
    "    erros.\n",
    "    While plotting the regression line, the algorithm calculates the best fitting slope and y-intercept taking into account the\n",
    "    errors between the actual and predicted values"
   ]
  },
  {
   "cell_type": "markdown",
   "metadata": {},
   "source": [
    "# Question 2\n",
    "\n",
    "**2.1** Run Linear Regression on this dataset  \n",
    "**2.2** How fast does our code run?  \n",
    "**2.3** How would you measure model performance? "
   ]
  },
  {
   "cell_type": "code",
   "execution_count": 1,
   "metadata": {},
   "outputs": [
    {
     "name": "stderr",
     "output_type": "stream",
     "text": [
      "C:\\Dev\\lib\\site-packages\\sklearn\\cross_validation.py:41: DeprecationWarning: This module was deprecated in version 0.18 in favor of the model_selection module into which all the refactored classes and functions are moved. Also note that the interface of the new CV iterators are different from that of this module. This module will be removed in 0.20.\n",
      "  \"This module will be removed in 0.20.\", DeprecationWarning)\n"
     ]
    }
   ],
   "source": [
    "2.1\n",
    "## your answer here \n",
    "# Import libraries\n",
    "import sklearn\n",
    "import numpy as np\n",
    "import pandas as pd\n",
    "import matplotlib.pyplot as plt\n",
    "from sklearn import datasets\n",
    "from sklearn.linear_model import LinearRegression\n",
    "from sklearn.cross_validation import train_test_split\n",
    "\n",
    "# load data\n",
    "data = datasets.load_diabetes()\n",
    "predictors = data.data\n",
    "target = data.target"
   ]
  },
  {
   "cell_type": "code",
   "execution_count": 9,
   "metadata": {},
   "outputs": [
    {
     "name": "stdout",
     "output_type": "stream",
     "text": [
      "R-Squared:  0.332222032691\n"
     ]
    }
   ],
   "source": [
    "# Not much information is given with regards to the dataset, unable to determine which is the dependent variable\n",
    "# Will work under assumption that Y is the dependent variable\n",
    "# Based on correlation, Y has the highest value with BMI at ~0.59\n",
    "\n",
    "# Create classifier\n",
    "reg_clf = LinearRegression()\n",
    "\n",
    "# Split data into training and test sets to prevent overfitting\n",
    "pred_train, pred_test, target_train, target_test = train_test_split(predictors, target, test_size = 0.2, random_state = 0)\n",
    "\n",
    "# Fit training data into classifier\n",
    "reg_clf.fit(pred_train, target_train)\n",
    "\n",
    "# Print R-Squared score\n",
    "print ('R-Squared: ', reg_clf.score(pred_test, target_test))"
   ]
  },
  {
   "cell_type": "code",
   "execution_count": 3,
   "metadata": {},
   "outputs": [
    {
     "ename": "SyntaxError",
     "evalue": "invalid syntax (<ipython-input-3-6db1134f0476>, line 1)",
     "output_type": "error",
     "traceback": [
      "\u001b[1;36m  File \u001b[1;32m\"<ipython-input-3-6db1134f0476>\"\u001b[1;36m, line \u001b[1;32m1\u001b[0m\n\u001b[1;33m    2.2 The code seems to run pretty fast < 5 seconds\u001b[0m\n\u001b[1;37m          ^\u001b[0m\n\u001b[1;31mSyntaxError\u001b[0m\u001b[1;31m:\u001b[0m invalid syntax\n"
     ]
    }
   ],
   "source": [
    "2.2 The code seems to run pretty fast < 5 seconds"
   ]
  },
  {
   "cell_type": "code",
   "execution_count": null,
   "metadata": {},
   "outputs": [],
   "source": [
    "2.3 I will measure the performance of the model using its R-Sqaured score which measures the relationship between the predictors\n",
    "and the target variable. In the above, the variance is ~33% which is quite low"
   ]
  },
  {
   "cell_type": "code",
   "execution_count": 10,
   "metadata": {},
   "outputs": [
    {
     "name": "stdout",
     "output_type": "stream",
     "text": [
      "R-Squared:  0.0340003830886\n"
     ]
    },
    {
     "name": "stderr",
     "output_type": "stream",
     "text": [
      "C:\\Dev\\lib\\site-packages\\ipykernel_launcher.py:3: FutureWarning: reshape is deprecated and will raise in a subsequent release. Please use .values.reshape(...) instead\n",
      "  This is separate from the ipykernel package so we can avoid doing imports until\n",
      "C:\\Dev\\lib\\site-packages\\ipykernel_launcher.py:4: FutureWarning: reshape is deprecated and will raise in a subsequent release. Please use .values.reshape(...) instead\n",
      "  after removing the cwd from sys.path.\n"
     ]
    }
   ],
   "source": [
    "# Reload data\n",
    "pands_data = pd.read_csv('C:/Users/Leo Tay/Desktop/stats-questions-LeoTSH/diabetes.tab.txt', sep='\\t')\n",
    "predict = pands_data['AGE'].reshape(-1, 1)\n",
    "target = pands_data['Y'].reshape(-1, 1)\n",
    "\n",
    "# Split data into training and test sets to prevent overfitting\n",
    "pred_train, pred_test, target_train, target_test = train_test_split(predict, target, test_size = 0.2, random_state = 0)\n",
    "\n",
    "# Fit training data into classifier\n",
    "reg_clf.fit(pred_train, target_train)\n",
    "\n",
    "# Print R-Squared score\n",
    "print ('R-Squared: ', reg_clf.score(pred_test, target_test))\n",
    "\n",
    "# Using AGE as the predictor variable, we are able to slightly increase the R-Score"
   ]
  },
  {
   "cell_type": "code",
   "execution_count": 11,
   "metadata": {},
   "outputs": [
    {
     "data": {
      "image/png": "[encoded data removed]",
      "text/plain": [
       "<matplotlib.figure.Figure at 0xc5ec170>"
      ]
     },
     "metadata": {},
     "output_type": "display_data"
    }
   ],
   "source": [
    "plt.scatter(x=predict, y=target)\n",
    "plt.plot(pred_train, reg_clf.predict(pred_train), color='red', linewidth=3)\n",
    "plt.show()"
   ]
  },
  {
   "cell_type": "markdown",
   "metadata": {},
   "source": [
    "# Question 3\n",
    "\n",
    "**3.1** Can you speed up how fast the code runs? (this is quite an open-ended question. bonus points for considering and implementing different approaches)   \n",
    "**3.2** Can you implement Linear Regression with a method different from the one used by scikit-learn? (bonus points for comparing different implementation methods) "
   ]
  },
  {
   "cell_type": "code",
   "execution_count": 6,
   "metadata": {
    "collapsed": true
   },
   "outputs": [],
   "source": [
    "## your answer here \n",
    "3.1 \n",
    "\n",
    "3.2 Linear Regression can also be implemented together with Gradient Descent which starts from a point and gradually work \n",
    "downwards towards the regression line and determine the path with the lowest errors/cost functions"
   ]
  }
 ],
 "metadata": {
  "kernelspec": {
   "display_name": "Python 3",
   "language": "python",
   "name": "python3"
  },
  "language_info": {
   "codemirror_mode": {
    "name": "ipython",
    "version": 3
   },
   "file_extension": ".py",
   "mimetype": "text/x-python",
   "name": "python",
   "nbconvert_exporter": "python",
   "pygments_lexer": "ipython3",
   "version": "3.6.3"
  }
 },
 "nbformat": 4,
 "nbformat_minor": 2
}
