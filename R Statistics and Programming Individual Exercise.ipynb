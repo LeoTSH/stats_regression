{
 "cells": [
  {
   "cell_type": "markdown",
   "metadata": {},
   "source": [
    "# Individual Exercise: \n",
    "\n",
    "This exercise is designed to be challenging but fun. We intentionally chose a task that you may not have encountered before because we want to see how you tackle fresh problems. \n",
    "\n",
    "- DO provide well-written explanations \n",
    "- DO comment your code \n",
    "- DO provide docstrings to your functions "
   ]
  },
  {
   "cell_type": "markdown",
   "metadata": {},
   "source": [
    "# Optimising how we implement linear regression \n",
    "## Scenario: \n",
    "\n",
    "Linear Regression is very useful for real-world machine learning. For example, we can use this algorithm to predict how far the disease of a diabetes patient has progressed one year after baseline. For this exercise, we are using a dataset collected from 442 people measuring 10 physiological characteristics such as age, sex and bmi. You can access the dataset from the aiap-workshop folder as `diabetes.tab.txt`"
   ]
  },
  {
   "cell_type": "markdown",
   "metadata": {},
   "source": [
    "# Question 1\n",
    "\n",
    "**1.1** Access the source code for linear regression https://github.com/scikit-learn/scikit-learn/blob/14031f6/sklearn/linear_model/base.py#L417  \n",
    "**1.2** From the source code, what Numerical Linear Algebra method is being used to implement Linear Regression?  \n",
    "**1.3** In your own words, describe how this method works"
   ]
  },
  {
   "cell_type": "code",
   "execution_count": 3,
   "metadata": {
    "collapsed": true
   },
   "outputs": [],
   "source": [
    "# your answer here "
   ]
  },
  {
   "cell_type": "markdown",
   "metadata": {},
   "source": [
    "# Question 2\n",
    "\n",
    "**2.1** Run Linear Regression on this dataset  \n",
    "**2.2** How fast does our code run?  \n",
    "**2.3** How would you measure model performance? "
   ]
  },
  {
   "cell_type": "code",
   "execution_count": 4,
   "metadata": {
    "collapsed": true
   },
   "outputs": [],
   "source": [
    "# your answer here "
   ]
  },
  {
   "cell_type": "markdown",
   "metadata": {},
   "source": [
    "# Question 3\n",
    "\n",
    "**3.1** Can you speed up how fast the code runs? (this is quite an open-ended question. bonus points for considering and implementing different approaches)   \n",
    "**3.2** Can you implement Linear Regression with a method different from the one used by scikit-learn? (bonus points for comparing different implementation methods) "
   ]
  },
  {
   "cell_type": "code",
   "execution_count": 5,
   "metadata": {
    "collapsed": true
   },
   "outputs": [],
   "source": [
    "# your answer here"
   ]
  }
 ],
 "metadata": {
  "kernelspec": {
   "display_name": "R",
   "language": "R",
   "name": "ir"
  },
  "language_info": {
   "codemirror_mode": "r",
   "file_extension": ".r",
   "mimetype": "text/x-r-source",
   "name": "R",
   "pygments_lexer": "r",
   "version": "3.4.2"
  }
 },
 "nbformat": 4,
 "nbformat_minor": 2
}
